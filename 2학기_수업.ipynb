{
  "nbformat": 4,
  "nbformat_minor": 0,
  "metadata": {
    "colab": {
      "provenance": [],
      "authorship_tag": "ABX9TyOEJKk4zL57XoCVf7/KNW/m",
      "include_colab_link": true
    },
    "kernelspec": {
      "name": "python3",
      "display_name": "Python 3"
    },
    "language_info": {
      "name": "python"
    }
  },
  "cells": [
    {
      "cell_type": "markdown",
      "metadata": {
        "id": "view-in-github",
        "colab_type": "text"
      },
      "source": [
        "<a href=\"https://colab.research.google.com/github/ijijijijiji/HTML-CSS/blob/main/2%ED%95%99%EA%B8%B0_%EC%88%98%EC%97%85.ipynb\" target=\"_parent\"><img src=\"https://colab.research.google.com/assets/colab-badge.svg\" alt=\"Open In Colab\"/></a>"
      ]
    },
    {
      "cell_type": "code",
      "execution_count": null,
      "metadata": {
        "id": "cU9loIUk1UQg",
        "colab": {
          "base_uri": "https://localhost:8080/",
          "height": 110
        },
        "outputId": "03009c94-2c52-4735-afc4-35746782c350"
      },
      "outputs": [
        {
          "output_type": "error",
          "ename": "IndentationError",
          "evalue": "unindent does not match any outer indentation level (<tokenize>, line 9)",
          "traceback": [
            "\u001b[0;36m  File \u001b[0;32m\"<tokenize>\"\u001b[0;36m, line \u001b[0;32m9\u001b[0m\n\u001b[0;31m    for k in range(1,20):\u001b[0m\n\u001b[0m    ^\u001b[0m\n\u001b[0;31mIndentationError\u001b[0m\u001b[0;31m:\u001b[0m unindent does not match any outer indentation level\n"
          ]
        }
      ],
      "source": [
        "#range(10) = 0~9 == range(0,10) == range(0,10,1) 0~10전까지 +1 step\n",
        "for i in range(10):\n",
        "  print(f'hello',end='\\t')\n",
        "\n",
        "# 1부터 100000까지 반복 출력\n",
        "# 1~10000\n",
        "for i in range(1, 20):\n",
        "    print(f'{i}단')\n",
        "   for k in range(1,20):\n",
        "     print(f'{i} * {k} = {i * k}', end='\\n')\n",
        "    print('')"
      ]
    },
    {
      "cell_type": "code",
      "source": [
        "# 내가 입력한 단만 출력\n",
        "\n",
        "n = int(input())\n",
        "\n",
        "for k in range(1,10): #1부터 9까지 하나씩 가져와서 k 변수에 저장\n",
        "    # 콜론(:)을 찍어서 들여쓰기 = 반복하면서 할 일을 지정\n",
        "    print(f'n*{k}={n*k}')"
      ],
      "metadata": {
        "id": "-U6t4vgCY2g4"
      },
      "execution_count": null,
      "outputs": []
    },
    {
      "cell_type": "code",
      "source": [
        "for i in range(2,5): # 2~4까지\n",
        "    for k in range(1,10):\n",
        "        print(f'{i}*{k}={i*k}')"
      ],
      "metadata": {
        "id": "rizWnaCwefXy",
        "colab": {
          "base_uri": "https://localhost:8080/"
        },
        "outputId": "c72fee8d-0475-498c-c3f0-46b17f7f439c"
      },
      "execution_count": null,
      "outputs": [
        {
          "output_type": "stream",
          "name": "stdout",
          "text": [
            "2*1=2\n",
            "2*2=4\n",
            "2*3=6\n",
            "2*4=8\n",
            "2*5=10\n",
            "2*6=12\n",
            "2*7=14\n",
            "2*8=16\n",
            "2*9=18\n",
            "3*1=3\n",
            "3*2=6\n",
            "3*3=9\n",
            "3*4=12\n",
            "3*5=15\n",
            "3*6=18\n",
            "3*7=21\n",
            "3*8=24\n",
            "3*9=27\n",
            "4*1=4\n",
            "4*2=8\n",
            "4*3=12\n",
            "4*4=16\n",
            "4*5=20\n",
            "4*6=24\n",
            "4*7=28\n",
            "4*8=32\n",
            "4*9=36\n"
          ]
        }
      ]
    },
    {
      "cell_type": "code",
      "source": [
        "for k in range(1,20):\n",
        "  for i in range(2,20):\n",
        "      print(f'{i} * {k} = {i*k}', end='\\t')\n",
        "  print()"
      ],
      "metadata": {
        "id": "wgMhSXY7gLHT",
        "colab": {
          "base_uri": "https://localhost:8080/"
        },
        "outputId": "bf080103-92d4-46ee-e712-d62deb47e92c"
      },
      "execution_count": null,
      "outputs": [
        {
          "output_type": "stream",
          "name": "stdout",
          "text": [
            "2 * 1 = 2\t3 * 1 = 3\t4 * 1 = 4\t5 * 1 = 5\t6 * 1 = 6\t7 * 1 = 7\t8 * 1 = 8\t9 * 1 = 9\t10 * 1 = 10\t11 * 1 = 11\t12 * 1 = 12\t13 * 1 = 13\t14 * 1 = 14\t15 * 1 = 15\t16 * 1 = 16\t17 * 1 = 17\t18 * 1 = 18\t19 * 1 = 19\t\n",
            "2 * 2 = 4\t3 * 2 = 6\t4 * 2 = 8\t5 * 2 = 10\t6 * 2 = 12\t7 * 2 = 14\t8 * 2 = 16\t9 * 2 = 18\t10 * 2 = 20\t11 * 2 = 22\t12 * 2 = 24\t13 * 2 = 26\t14 * 2 = 28\t15 * 2 = 30\t16 * 2 = 32\t17 * 2 = 34\t18 * 2 = 36\t19 * 2 = 38\t\n",
            "2 * 3 = 6\t3 * 3 = 9\t4 * 3 = 12\t5 * 3 = 15\t6 * 3 = 18\t7 * 3 = 21\t8 * 3 = 24\t9 * 3 = 27\t10 * 3 = 30\t11 * 3 = 33\t12 * 3 = 36\t13 * 3 = 39\t14 * 3 = 42\t15 * 3 = 45\t16 * 3 = 48\t17 * 3 = 51\t18 * 3 = 54\t19 * 3 = 57\t\n",
            "2 * 4 = 8\t3 * 4 = 12\t4 * 4 = 16\t5 * 4 = 20\t6 * 4 = 24\t7 * 4 = 28\t8 * 4 = 32\t9 * 4 = 36\t10 * 4 = 40\t11 * 4 = 44\t12 * 4 = 48\t13 * 4 = 52\t14 * 4 = 56\t15 * 4 = 60\t16 * 4 = 64\t17 * 4 = 68\t18 * 4 = 72\t19 * 4 = 76\t\n",
            "2 * 5 = 10\t3 * 5 = 15\t4 * 5 = 20\t5 * 5 = 25\t6 * 5 = 30\t7 * 5 = 35\t8 * 5 = 40\t9 * 5 = 45\t10 * 5 = 50\t11 * 5 = 55\t12 * 5 = 60\t13 * 5 = 65\t14 * 5 = 70\t15 * 5 = 75\t16 * 5 = 80\t17 * 5 = 85\t18 * 5 = 90\t19 * 5 = 95\t\n",
            "2 * 6 = 12\t3 * 6 = 18\t4 * 6 = 24\t5 * 6 = 30\t6 * 6 = 36\t7 * 6 = 42\t8 * 6 = 48\t9 * 6 = 54\t10 * 6 = 60\t11 * 6 = 66\t12 * 6 = 72\t13 * 6 = 78\t14 * 6 = 84\t15 * 6 = 90\t16 * 6 = 96\t17 * 6 = 102\t18 * 6 = 108\t19 * 6 = 114\t\n",
            "2 * 7 = 14\t3 * 7 = 21\t4 * 7 = 28\t5 * 7 = 35\t6 * 7 = 42\t7 * 7 = 49\t8 * 7 = 56\t9 * 7 = 63\t10 * 7 = 70\t11 * 7 = 77\t12 * 7 = 84\t13 * 7 = 91\t14 * 7 = 98\t15 * 7 = 105\t16 * 7 = 112\t17 * 7 = 119\t18 * 7 = 126\t19 * 7 = 133\t\n",
            "2 * 8 = 16\t3 * 8 = 24\t4 * 8 = 32\t5 * 8 = 40\t6 * 8 = 48\t7 * 8 = 56\t8 * 8 = 64\t9 * 8 = 72\t10 * 8 = 80\t11 * 8 = 88\t12 * 8 = 96\t13 * 8 = 104\t14 * 8 = 112\t15 * 8 = 120\t16 * 8 = 128\t17 * 8 = 136\t18 * 8 = 144\t19 * 8 = 152\t\n",
            "2 * 9 = 18\t3 * 9 = 27\t4 * 9 = 36\t5 * 9 = 45\t6 * 9 = 54\t7 * 9 = 63\t8 * 9 = 72\t9 * 9 = 81\t10 * 9 = 90\t11 * 9 = 99\t12 * 9 = 108\t13 * 9 = 117\t14 * 9 = 126\t15 * 9 = 135\t16 * 9 = 144\t17 * 9 = 153\t18 * 9 = 162\t19 * 9 = 171\t\n",
            "2 * 10 = 20\t3 * 10 = 30\t4 * 10 = 40\t5 * 10 = 50\t6 * 10 = 60\t7 * 10 = 70\t8 * 10 = 80\t9 * 10 = 90\t10 * 10 = 100\t11 * 10 = 110\t12 * 10 = 120\t13 * 10 = 130\t14 * 10 = 140\t15 * 10 = 150\t16 * 10 = 160\t17 * 10 = 170\t18 * 10 = 180\t19 * 10 = 190\t\n",
            "2 * 11 = 22\t3 * 11 = 33\t4 * 11 = 44\t5 * 11 = 55\t6 * 11 = 66\t7 * 11 = 77\t8 * 11 = 88\t9 * 11 = 99\t10 * 11 = 110\t11 * 11 = 121\t12 * 11 = 132\t13 * 11 = 143\t14 * 11 = 154\t15 * 11 = 165\t16 * 11 = 176\t17 * 11 = 187\t18 * 11 = 198\t19 * 11 = 209\t\n",
            "2 * 12 = 24\t3 * 12 = 36\t4 * 12 = 48\t5 * 12 = 60\t6 * 12 = 72\t7 * 12 = 84\t8 * 12 = 96\t9 * 12 = 108\t10 * 12 = 120\t11 * 12 = 132\t12 * 12 = 144\t13 * 12 = 156\t14 * 12 = 168\t15 * 12 = 180\t16 * 12 = 192\t17 * 12 = 204\t18 * 12 = 216\t19 * 12 = 228\t\n",
            "2 * 13 = 26\t3 * 13 = 39\t4 * 13 = 52\t5 * 13 = 65\t6 * 13 = 78\t7 * 13 = 91\t8 * 13 = 104\t9 * 13 = 117\t10 * 13 = 130\t11 * 13 = 143\t12 * 13 = 156\t13 * 13 = 169\t14 * 13 = 182\t15 * 13 = 195\t16 * 13 = 208\t17 * 13 = 221\t18 * 13 = 234\t19 * 13 = 247\t\n",
            "2 * 14 = 28\t3 * 14 = 42\t4 * 14 = 56\t5 * 14 = 70\t6 * 14 = 84\t7 * 14 = 98\t8 * 14 = 112\t9 * 14 = 126\t10 * 14 = 140\t11 * 14 = 154\t12 * 14 = 168\t13 * 14 = 182\t14 * 14 = 196\t15 * 14 = 210\t16 * 14 = 224\t17 * 14 = 238\t18 * 14 = 252\t19 * 14 = 266\t\n",
            "2 * 15 = 30\t3 * 15 = 45\t4 * 15 = 60\t5 * 15 = 75\t6 * 15 = 90\t7 * 15 = 105\t8 * 15 = 120\t9 * 15 = 135\t10 * 15 = 150\t11 * 15 = 165\t12 * 15 = 180\t13 * 15 = 195\t14 * 15 = 210\t15 * 15 = 225\t16 * 15 = 240\t17 * 15 = 255\t18 * 15 = 270\t19 * 15 = 285\t\n",
            "2 * 16 = 32\t3 * 16 = 48\t4 * 16 = 64\t5 * 16 = 80\t6 * 16 = 96\t7 * 16 = 112\t8 * 16 = 128\t9 * 16 = 144\t10 * 16 = 160\t11 * 16 = 176\t12 * 16 = 192\t13 * 16 = 208\t14 * 16 = 224\t15 * 16 = 240\t16 * 16 = 256\t17 * 16 = 272\t18 * 16 = 288\t19 * 16 = 304\t\n",
            "2 * 17 = 34\t3 * 17 = 51\t4 * 17 = 68\t5 * 17 = 85\t6 * 17 = 102\t7 * 17 = 119\t8 * 17 = 136\t9 * 17 = 153\t10 * 17 = 170\t11 * 17 = 187\t12 * 17 = 204\t13 * 17 = 221\t14 * 17 = 238\t15 * 17 = 255\t16 * 17 = 272\t17 * 17 = 289\t18 * 17 = 306\t19 * 17 = 323\t\n",
            "2 * 18 = 36\t3 * 18 = 54\t4 * 18 = 72\t5 * 18 = 90\t6 * 18 = 108\t7 * 18 = 126\t8 * 18 = 144\t9 * 18 = 162\t10 * 18 = 180\t11 * 18 = 198\t12 * 18 = 216\t13 * 18 = 234\t14 * 18 = 252\t15 * 18 = 270\t16 * 18 = 288\t17 * 18 = 306\t18 * 18 = 324\t19 * 18 = 342\t\n",
            "2 * 19 = 38\t3 * 19 = 57\t4 * 19 = 76\t5 * 19 = 95\t6 * 19 = 114\t7 * 19 = 133\t8 * 19 = 152\t9 * 19 = 171\t10 * 19 = 190\t11 * 19 = 209\t12 * 19 = 228\t13 * 19 = 247\t14 * 19 = 266\t15 * 19 = 285\t16 * 19 = 304\t17 * 19 = 323\t18 * 19 = 342\t19 * 19 = 361\t\n"
          ]
        }
      ]
    },
    {
      "cell_type": "code",
      "source": [
        "rows = 3 # 가로줄\n",
        "col = 4  # 세로줄\n",
        "\n",
        "for i in range(rows):\n",
        "  for k in range(cols):\n",
        "    print(f'{i * cols + k}', end='\\t')\n",
        "   print()"
      ],
      "metadata": {
        "id": "p_PVvx8vojYO",
        "colab": {
          "base_uri": "https://localhost:8080/",
          "height": 110
        },
        "outputId": "76b21ee4-3d17-498c-8120-5516ea2c49df"
      },
      "execution_count": null,
      "outputs": [
        {
          "output_type": "error",
          "ename": "IndentationError",
          "evalue": "unindent does not match any outer indentation level (<tokenize>, line 7)",
          "traceback": [
            "\u001b[0;36m  File \u001b[0;32m\"<tokenize>\"\u001b[0;36m, line \u001b[0;32m7\u001b[0m\n\u001b[0;31m    print()\u001b[0m\n\u001b[0m    ^\u001b[0m\n\u001b[0;31mIndentationError\u001b[0m\u001b[0;31m:\u001b[0m unindent does not match any outer indentation level\n"
          ]
        }
      ]
    },
    {
      "cell_type": "code",
      "source": [
        "import randem\n",
        "rows = int(input('가로줄을 입력하세요'))\n",
        "cols = int(input('세로줄을 입력하세요'))\n",
        "\n",
        "# 실제 학생수가 24보다 클수도 있고, 작을수도 있음.\n",
        "# 만약 24보다 크다면 어떡할래? 지금은 가정하지 않겠음\n",
        "# 만약 적다면...없는 자리를 X로 표시해서 24를 무조건 만들겠음.\n",
        "student = ['고현준','곽권','김규민','김민성','김민후','김서빈','김지민','박민지','박진우','박현지','신보경','양현욱','유승찬']\n",
        "# student를 무조건 24명으로 만들어 버림(없는 자리는 X로 해서)\n",
        "# 현재 13명 있음. 어떻게 24로 만들까? 현재가 만약 n명이라면?\n",
        "# 현재가 몇명인지 알 수 있음?\n",
        "# len(student) = 현재 인원\n",
        "# student.append('X') 하면 한명 추가\n",
        "\n",
        "empty = cols * rows - 13\n",
        "for i in range(empty):\n",
        "  student.append('X')\n",
        "\n",
        "randem.shuffle(student)\n",
        "\n",
        "cnt = 0\n",
        "for i in range(rows):\n",
        "    for k in range(cols):\n",
        "       print(f'{student[cnt]}', end='\\t')\n",
        "       cnt = cnt + 1\n",
        "    print()"
      ],
      "metadata": {
        "id": "cVjZbA5vCAsL"
      },
      "execution_count": null,
      "outputs": []
    },
    {
      "cell_type": "code",
      "source": [
        "for i in range(3):\n",
        "  for k in range(5):\n",
        "    print(f'*', end='')\n",
        "  print('')\n",
        "\n",
        "for i in range(1,5):\n",
        "  for k in range(i):\n",
        "    print(f'*', end='')\n",
        "  print('')"
      ],
      "metadata": {
        "id": "Bd4g4odY7Gfr",
        "colab": {
          "base_uri": "https://localhost:8080/"
        },
        "outputId": "0b5e8aa4-ba61-4edc-e3ec-01bb9f4cf085"
      },
      "execution_count": 3,
      "outputs": [
        {
          "output_type": "stream",
          "name": "stdout",
          "text": [
            "*****\n",
            "*****\n",
            "*****\n",
            "*\n",
            "**\n",
            "***\n",
            "****\n"
          ]
        }
      ]
    },
    {
      "cell_type": "code",
      "source": [
        "# 행번호 i와 입력받아 별을 출력하는 코드\n",
        "\n",
        "rows = int(input('행번호 입력 -> '))\n",
        "\n",
        "for i in range(rows):\n",
        "  for k in range(i+1):\n",
        "    print(f'*', end='')\n",
        "  print('')\n",
        "\n",
        "a = int(input('행번호 입력 '))\n",
        "\n",
        "for i in range(a):\n",
        "  for k in range(a-i):\n",
        "    print(f'*', end='')\n",
        "  print('')\n",
        "\n",
        "rows = int(input('행번호 입력 '))\n",
        "\n",
        "for i in range(rows):\n",
        "  for k in range(rows-i-1):\n",
        "    print(f'_', end='')\n",
        "  for k in range(i+1):\n",
        "    print(f'*', end='')\n",
        "  print('')"
      ],
      "metadata": {
        "id": "3owV1G0Q_AJ-",
        "colab": {
          "base_uri": "https://localhost:8080/"
        },
        "outputId": "bb086c10-4f9c-4718-f46a-a8d854f8c46a"
      },
      "execution_count": 2,
      "outputs": [
        {
          "output_type": "stream",
          "name": "stdout",
          "text": [
            "행번호 입력 -> 3\n",
            "*\n",
            "**\n",
            "***\n",
            "행번호 입력 4\n",
            "****\n",
            "***\n",
            "**\n",
            "*\n",
            "행번호 입력 3\n",
            "__*\n",
            "_**\n",
            "***\n"
          ]
        }
      ]
    },
    {
      "cell_type": "code",
      "source": [
        "sw = -1\n",
        "\n",
        "for i in range(1,6):\n",
        "  for k in ranage(6):\n",
        "    print(f'{i * sw}', end='')\n",
        "    sw = sw * -1\n",
        "  print()"
      ],
      "metadata": {
        "id": "jfH7_mFfAUk1"
      },
      "execution_count": null,
      "outputs": []
    },
    {
      "cell_type": "code",
      "source": [
        "rows = int(input('줄 개수를 입력(홀수) '))\n",
        "loop = int(rows/2)+1\n",
        "\n",
        "for i in range(loop):\n",
        "    for k in range(loop-i-1):\n",
        "      print(f'0', end='')\n",
        "    for k in range(i*2+1):\n",
        "      print(f'8', end='')\n",
        "    for k in range(loop-i-1):\n",
        "      print(f'0', end='')\n",
        "    print()\n",
        "\n",
        "star = 1\n",
        "zero = int(rows/2)\n",
        "sw = 1\n",
        "\n",
        "for i in range(rows):\n",
        "    for k in range(zero):\n",
        "      print(f'0', end='')\n",
        "    for k in range(star):\n",
        "      print(f'8', end='')\n",
        "    for k in range(zero):\n",
        "      print(f'0', end='')\n",
        "    print()\n",
        "\n",
        "    if i < loop - 1:\n",
        "      star = star + 2  #1개 -> 3개\n",
        "      zero = zero -1   #3개 -> 2개\n",
        "    else :\n",
        "       star = star - 2\n",
        "       zero = zero  + 1\n",
        "\n",
        "\n"
      ],
      "metadata": {
        "id": "HCnximXDrSFB"
      },
      "execution_count": null,
      "outputs": []
    },
    {
      "cell_type": "code",
      "source": [
        "# 1 2 3 4 5 6 7\n",
        "# 8 ~~~~~~    14\n",
        "# ........    35\n",
        "\n",
        "number = 1\n",
        "for i in range(5):\n",
        "  for k in range(7):\n",
        "    # i,k를 이용하여 1~35 까지 출력\n",
        "    print(f'{i*7+k+1}', end='\\t')\n",
        "    #print(f'{number}', end='\\t')\n",
        "    #number += 1\n",
        "  print()"
      ],
      "metadata": {
        "id": "W7w2kiwHEXj7",
        "colab": {
          "base_uri": "https://localhost:8080/"
        },
        "outputId": "96ba8c6b-1803-4397-ddea-b7b19d68fcba"
      },
      "execution_count": null,
      "outputs": [
        {
          "output_type": "stream",
          "name": "stdout",
          "text": [
            "1\t2\t3\t4\t5\t6\t7\t\n",
            "8\t9\t10\t11\t12\t13\t14\t\n",
            "15\t16\t17\t18\t19\t20\t21\t\n",
            "22\t23\t24\t25\t26\t27\t28\t\n",
            "29\t30\t31\t32\t33\t34\t35\t\n"
          ]
        }
      ]
    },
    {
      "cell_type": "code",
      "source": [
        "#1\n",
        "#23\n",
        "#456\n",
        "#78910\n",
        "\n",
        "num=1\n",
        "for i in range(1,6):\n",
        "  for k in range(i):\n",
        "    print(f'{num}' , end='\\t')\n",
        "    num = num + 1\n",
        "  print()"
      ],
      "metadata": {
        "id": "eSYHKPLlMge8",
        "colab": {
          "base_uri": "https://localhost:8080/"
        },
        "outputId": "6a7dc221-9f15-4016-a022-88208f5a8bd2"
      },
      "execution_count": null,
      "outputs": [
        {
          "output_type": "stream",
          "name": "stdout",
          "text": [
            "1\t\n",
            "2\t3\t\n",
            "4\t5\t6\t\n",
            "7\t8\t9\t10\t\n",
            "11\t12\t13\t14\t15\t\n"
          ]
        }
      ]
    },
    {
      "cell_type": "code",
      "source": [
        "# 리스트\n",
        "list = [] # 비어있음\n",
        "list = [1,2,3,4]\n",
        "\n",
        "list2 = ['a',1,2,3] # 다른 자료형도 사용할 수 있음\n",
        "list2.append(4) #append 이용하여 마지막 항목 추가\n",
        "list2.remove('a') # remove는 항목을 검색해서 삭제\n",
        "print(list2)\n",
        "\n",
        "list2.append(1) # [1,2,3,4,1]\n",
        "print(list2)\n",
        "list2.remove(1) # 누가 삭제 될까? -> 앞에 있는 값이 삭제\n",
        "print(list2)\n",
        "\n",
        "list2.pop() # 항상 마지막 항이 삭제\n",
        "print(list2) # [2,3,4]\n",
        "\n",
        "list2.insert(1,5) # 1번지에 5\n",
        "print(list2) # [2,5,3,4]\n"
      ],
      "metadata": {
        "id": "F_BhIKzAmW6K",
        "colab": {
          "base_uri": "https://localhost:8080/"
        },
        "outputId": "4f9b3232-1a84-4a02-e4bb-470f066798e6"
      },
      "execution_count": null,
      "outputs": [
        {
          "output_type": "stream",
          "name": "stdout",
          "text": [
            "[1, 2, 3, 4]\n",
            "[1, 2, 3, 4, 1]\n",
            "[2, 3, 4, 1]\n",
            "[2, 3, 4]\n",
            "[2, 5, 3, 4]\n"
          ]
        }
      ]
    },
    {
      "cell_type": "code",
      "source": [
        "list = []\n",
        "\n",
        "def pop(): # 값을 꺼낼 때 기능\n",
        "    if len(list) > 0:  # list의 길이를 검사\n",
        "        list.pop()\n",
        "    else:\n",
        "        print('비어있습니다')\n",
        "\n",
        "def push(value): # 값을 추가할 때 기능\n",
        "    list.append(value)\n",
        "\n",
        "while(True):\n",
        "  print(f'현재상태 : {list}')\n",
        "  select = input('동작을 입력하세요 1.삭제 2.삽입 3.종료')\n",
        "  if select == '1': # 삭제\n",
        "      pop()\n",
        "  elif select == '2': # 추가\n",
        "      val = input('값을 입력하세요')\n",
        "      push(val)\n",
        "  elif select == '3': # 종료\n",
        "      break\n",
        "  else:\n",
        "      print('1,2,3 중 선택')\n"
      ],
      "metadata": {
        "id": "eZMZaaVIr2jR",
        "colab": {
          "base_uri": "https://localhost:8080/"
        },
        "outputId": "98aecf24-7001-447b-b39d-8626530e34a1"
      },
      "execution_count": null,
      "outputs": [
        {
          "name": "stdout",
          "output_type": "stream",
          "text": [
            "현재상태 : []\n",
            "동작을 입력하세요 1.삭제 2.삽입 3.종료2\n",
            "값을 입력하세요3\n",
            "현재상태 : ['3']\n",
            "동작을 입력하세요 1.삭제 2.삽입 3.종료2\n",
            "값을 입력하세요5\n",
            "현재상태 : ['3', '5']\n",
            "동작을 입력하세요 1.삭제 2.삽입 3.종료2\n",
            "값을 입력하세요5\n",
            "현재상태 : ['3', '5', '5']\n",
            "동작을 입력하세요 1.삭제 2.삽입 3.종료1\n",
            "현재상태 : ['3', '5']\n",
            "동작을 입력하세요 1.삭제 2.삽입 3.종료2\n",
            "값을 입력하세요5\n",
            "현재상태 : ['3', '5', '5']\n",
            "동작을 입력하세요 1.삭제 2.삽입 3.종료3\n"
          ]
        }
      ]
    },
    {
      "cell_type": "code",
      "source": [
        "# 배열의 크기를 정하고, append, pop 없이 구현\n",
        "\n",
        "global pos, size # global을 선언을 먼저해야 함수에서 같이 사용할 수 있음\n",
        "size = int(input('배열의 크기를 입력하세요'))\n",
        "list = []\n",
        "pos = -1 # 아무것도 지정되지 않음\n",
        "\n",
        "for i in range(size):\n",
        "    list.append(0) # 0으로 초기화 [0,0,0...0]\n",
        "\n",
        "def pop():\n",
        "    if pos > -1: # 하나라도 있다면 꺼내기 => 0으로 표현\n",
        "        list[pos] = 0\n",
        "        pos = pos -1 # 위치를 하나 아래로 설정\n",
        "    else:\n",
        "      print('값이 없습니다.')\n",
        "\n",
        "def push(value):\n",
        "    if pos >= size - 1: # 마지막 상황에서 9 >= 10 -1\n",
        "      print('배열이 가득 찼습니다')\n",
        "    else:\n",
        "      pos = pos + 1\n",
        "      list[pos] = value\n",
        "\n",
        "def show():\n",
        "    for i in range(pos):\n",
        "        print(f'{list[i]}', end='\\t')\n",
        "\n",
        "while(True):\n",
        "  print()\n",
        "  sel = input('동작을 입력하세요 1.pop 2.push 3.show')\n",
        "  if sel == '1':\n",
        "    pop:\n",
        "  elif sel == '2':\n",
        "    val = input('값을 입력하세요')\n",
        "  elif sel == '3':\n",
        "    show()\n",
        "  else:\n",
        "    print('다시 선택하세요')"
      ],
      "metadata": {
        "id": "noPsmGarvqpI"
      },
      "execution_count": null,
      "outputs": []
    },
    {
      "cell_type": "code",
      "source": [
        "list = [\n",
        "    [1,2,3] ,\n",
        "    [4,5,6] ,\n",
        "    [7,8,9] ]\n",
        "print(list[2][1])"
      ],
      "metadata": {
        "colab": {
          "base_uri": "https://localhost:8080/"
        },
        "id": "WUuvRUk1Ha0A",
        "outputId": "f7bf57dd-2846-41c2-f3e3-91a1b3811fd4"
      },
      "execution_count": null,
      "outputs": [
        {
          "output_type": "stream",
          "name": "stdout",
          "text": [
            "8\n"
          ]
        }
      ]
    },
    {
      "cell_type": "code",
      "source": [
        "arr = [1,2,3]\n",
        "list = [arr, arr, arr] #[ [1,2,3],[1,2,3],[1,2,3] ]\n",
        "print(list)\n",
        "\n",
        "arr.append(4) # arr [1,2,3,4]\n",
        "print(list)\n",
        "\n",
        "# 참조에 의한 호출이기 때문에 list의 값도 같이 변경이 됨"
      ],
      "metadata": {
        "colab": {
          "base_uri": "https://localhost:8080/"
        },
        "id": "ZVrShRWxJ21Q",
        "outputId": "2d223e35-edef-4c03-fa54-2f9a03308f80"
      },
      "execution_count": null,
      "outputs": [
        {
          "output_type": "stream",
          "name": "stdout",
          "text": [
            "[[1, 2, 3], [1, 2, 3], [1, 2, 3]]\n",
            "[[1, 2, 3, 4], [1, 2, 3, 4], [1, 2, 3, 4]]\n"
          ]
        }
      ]
    },
    {
      "cell_type": "code",
      "source": [
        "studentA = [100, 80, 80, 90] # 과목 1 2 3 4\n",
        "studentB = {\n",
        "    'korean' : 100,\n",
        "    'math' : 80,\n",
        "    'eng' : 80,\n",
        "    'info' : 90 } # dictionaty 형식 'key' : 'value'의 조합으로 이루어짐\n",
        "\n",
        "print(studentA[0]) # 국어성적\n",
        "print(studentB['korean'])\n",
        "\n",
        "# B학생에게 jpn 성적 100점 추가\n",
        "studentA.append(100)\n",
        "studentB['jpn'] = 100\n",
        "print(studentB)\n",
        "\n",
        "print(*studentB.keys())\n",
        "\n",
        "for k in studentB.values():\n",
        "    print(k)\n",
        "\n",
        "# 과학이 없음 이라고 출력하고 싶으면 어떻게?\n",
        "\n",
        "flag = False\n",
        "for k in studentB.keys():\n",
        "    if k == 'sci':\n",
        "      flag= True\n",
        "if flag == True:\n",
        "  print('과학있음')\n",
        "else:\n",
        "  print('과학없음')\n",
        "\n",
        "if 'sci' in studentB: # key 검사\n",
        "  print('과학 진짜 있음')\n",
        "else:\n",
        "  print('과학 진짜 없음')\n"
      ],
      "metadata": {
        "colab": {
          "base_uri": "https://localhost:8080/"
        },
        "id": "Kg8n-eoXLPMI",
        "outputId": "91633a9c-a399-4f1c-c5e1-33d31d79b57f"
      },
      "execution_count": null,
      "outputs": [
        {
          "output_type": "stream",
          "name": "stdout",
          "text": [
            "100\n",
            "100\n",
            "{'korean': 100, 'math': 80, 'eng': 80, 'info': 90, 'jpn': 100}\n",
            "korean math eng info jpn\n",
            "100\n",
            "80\n",
            "80\n",
            "90\n",
            "100\n",
            "과학없음\n",
            "과학 진짜 없음\n"
          ]
        }
      ]
    },
    {
      "cell_type": "code",
      "source": [
        "for i in range(7):\n",
        "  for k in range(i+1):\n",
        "    print(f'*', end='')\n",
        "  print()\n",
        "\n",
        "print()\n",
        "\n",
        "size = 5\n",
        "for i in range(size):\n",
        "  for k in range(size-i):\n",
        "    print(f'*', end='')\n",
        "  print()"
      ],
      "metadata": {
        "colab": {
          "base_uri": "https://localhost:8080/"
        },
        "id": "trxoYoFfpcwm",
        "outputId": "4154deb7-b4c5-4f68-cd32-1c318f7077b5"
      },
      "execution_count": null,
      "outputs": [
        {
          "output_type": "stream",
          "name": "stdout",
          "text": [
            "*\n",
            "**\n",
            "***\n",
            "****\n",
            "*****\n",
            "******\n",
            "*******\n",
            "\n",
            "*****\n",
            "****\n",
            "***\n",
            "**\n",
            "*\n"
          ]
        }
      ]
    },
    {
      "cell_type": "code",
      "source": [
        "size = int(input('줄 수 '))\n",
        "for i in range(size):\n",
        "    for k in range(size-i-1):\n",
        "      print(f' ', end='')\n",
        "    for k in range(i*2+1):\n",
        "      print(f'*', end='')\n",
        "    print()"
      ],
      "metadata": {
        "colab": {
          "base_uri": "https://localhost:8080/"
        },
        "id": "60Lyewk5tv3e",
        "outputId": "e4f50975-9786-49d9-bc95-ed9c440be321"
      },
      "execution_count": null,
      "outputs": [
        {
          "output_type": "stream",
          "name": "stdout",
          "text": [
            "줄 수 10\n",
            "         *\n",
            "        ***\n",
            "       *****\n",
            "      *******\n",
            "     *********\n",
            "    ***********\n",
            "   *************\n",
            "  ***************\n",
            " *****************\n",
            "*******************\n"
          ]
        }
      ]
    },
    {
      "cell_type": "code",
      "source": [
        "# 소수판별 = 1과 자신을 제외한 수 중에 나누어지지 않는 수(단, 2 이상)\n",
        "\n",
        "number = int(input('숫자입력 '))\n",
        "\n",
        "for n in range(2, number+1):\n",
        "    is_prime = True\n",
        "    for k in range(2, n):\n",
        "        if n % k == 0:\n",
        "          #print('소수가 아닙니다.')\n",
        "          is_prime = False\n",
        "          break\n",
        "\n",
        "    if is_prime == True:\n",
        "        print(n)"
      ],
      "metadata": {
        "id": "Y450Bt-EwJoL"
      },
      "execution_count": null,
      "outputs": []
    },
    {
      "cell_type": "code",
      "source": [
        "n = int(input())\n",
        "\n",
        "for number in range(1, n+1):\n",
        "    is_ijak = False\n",
        "    i = number\n",
        "    while(number > 0):\n",
        "        d = number % 10\n",
        "        if d == 3 or d == 6 or d == 9:\n",
        "            print('짝!')\n",
        "            is_ijak = True\n",
        "            break\n",
        "        number = int(number / 10)\n",
        "    if is_ijak == False:\n",
        "      print(i)"
      ],
      "metadata": {
        "colab": {
          "base_uri": "https://localhost:8080/"
        },
        "id": "QUFCqgZZ1Szu",
        "outputId": "c66f86b0-40ca-43f8-b102-5fb273f7e02c"
      },
      "execution_count": null,
      "outputs": [
        {
          "output_type": "stream",
          "name": "stdout",
          "text": [
            "50\n",
            "1\n",
            "2\n",
            "짝!\n",
            "4\n",
            "5\n",
            "짝!\n",
            "7\n",
            "8\n",
            "짝!\n",
            "10\n",
            "11\n",
            "12\n",
            "짝!\n",
            "14\n",
            "15\n",
            "짝!\n",
            "17\n",
            "18\n",
            "짝!\n",
            "20\n",
            "21\n",
            "22\n",
            "짝!\n",
            "24\n",
            "25\n",
            "짝!\n",
            "27\n",
            "28\n",
            "짝!\n",
            "짝!\n",
            "짝!\n",
            "짝!\n",
            "짝!\n",
            "짝!\n",
            "짝!\n",
            "짝!\n",
            "짝!\n",
            "짝!\n",
            "짝!\n",
            "40\n",
            "41\n",
            "42\n",
            "짝!\n",
            "44\n",
            "45\n",
            "짝!\n",
            "47\n",
            "48\n",
            "짝!\n",
            "50\n"
          ]
        }
      ]
    },
    {
      "cell_type": "code",
      "source": [
        "list = [2,3,44,6,32,1,18,7,23]\n",
        "start = 0\n",
        "end = 3\n",
        "total = 0\n",
        "\n",
        "for i in range(start, end+1):\n",
        "    total = total + list[i] # 기존의 total에 새로운 값을 계속 누적\n",
        "\n",
        "print(total)\n",
        "\n",
        "print( sum(list[start : end+1] ))"
      ],
      "metadata": {
        "id": "mQ9cien0ODrr",
        "colab": {
          "base_uri": "https://localhost:8080/"
        },
        "outputId": "27c2e436-75ba-4a3d-dce1-3cc7020ca5cb"
      },
      "execution_count": 7,
      "outputs": [
        {
          "output_type": "stream",
          "name": "stdout",
          "text": [
            "55\n",
            "55\n"
          ]
        }
      ]
    },
    {
      "cell_type": "code",
      "source": [
        "# 연속된 범위를 선택했을 때 최대합은 얼마일까?\n",
        "\n",
        "list = [2,-3,44,-6,-13,32,1,-18,7,23]\n",
        "del max\n",
        "total = -99999999\n",
        "\n",
        "for i in range(0, len(list)):\n",
        "  for k in range(i, len(list)):\n",
        "    total = max(total, sum(list[i : k+1])) # max(엑셀과 같음. 항목 중 최대값 반환)\n",
        "print(total)"
      ],
      "metadata": {
        "id": "WqdJyqNGQrjM"
      },
      "execution_count": null,
      "outputs": []
    },
    {
      "cell_type": "code",
      "source": [
        "arr = [2, -34, 65, -7, 1, 34, -31, 32]\n",
        "for k in range(1, len(arr)):\n",
        "  arr[k] = max(arr[k], arr[k] + arr[k-1])\n",
        "  print(arr)\n",
        "print(f'result : {arr[7]}')"
      ],
      "metadata": {
        "id": "KAwD62ViXyCc",
        "colab": {
          "base_uri": "https://localhost:8080/"
        },
        "outputId": "7c37519e-2af5-4341-8e93-61c4dc44a915"
      },
      "execution_count": 5,
      "outputs": [
        {
          "output_type": "stream",
          "name": "stdout",
          "text": [
            "[2, -32, 65, -7, 1, 34, -31, 32]\n",
            "[2, -32, 65, -7, 1, 34, -31, 32]\n",
            "[2, -32, 65, 58, 1, 34, -31, 32]\n",
            "[2, -32, 65, 58, 59, 34, -31, 32]\n",
            "[2, -32, 65, 58, 59, 93, -31, 32]\n",
            "[2, -32, 65, 58, 59, 93, 62, 32]\n",
            "[2, -32, 65, 58, 59, 93, 62, 94]\n",
            "result : 94\n"
          ]
        }
      ]
    },
    {
      "cell_type": "code",
      "source": [
        "#파이썬 함수\n",
        "def jump(num):\n",
        "  if num > 10:\n",
        "    return # 함수 종료\n",
        "  print(f'{num}를 호출했음')\n",
        "  print(num)\n",
        "  jump(num+1)\n",
        "  print(f'{num}를 호출했음')\n",
        "\n",
        "jump(1)\n",
        "\n",
        "\n",
        "# 1~10까지 출력 단 반복문을 사용하지 않고\n",
        "def show(n):\n",
        "  if n < 10:\n",
        "    show(n+1)\n",
        "  else:\n",
        "    return\n",
        "\n",
        "show(1)"
      ],
      "metadata": {
        "id": "8wbG3UHO9pYc",
        "colab": {
          "base_uri": "https://localhost:8080/"
        },
        "outputId": "becc1d9e-74ec-4f90-84da-bc0fa3a95286"
      },
      "execution_count": 4,
      "outputs": [
        {
          "output_type": "stream",
          "name": "stdout",
          "text": [
            "1를 호출했음\n",
            "1\n",
            "2를 호출했음\n",
            "2\n",
            "3를 호출했음\n",
            "3\n",
            "4를 호출했음\n",
            "4\n",
            "5를 호출했음\n",
            "5\n",
            "6를 호출했음\n",
            "6\n",
            "7를 호출했음\n",
            "7\n",
            "8를 호출했음\n",
            "8\n",
            "9를 호출했음\n",
            "9\n",
            "10를 호출했음\n",
            "10\n",
            "10를 호출했음\n",
            "9를 호출했음\n",
            "8를 호출했음\n",
            "7를 호출했음\n",
            "6를 호출했음\n",
            "5를 호출했음\n",
            "4를 호출했음\n",
            "3를 호출했음\n",
            "2를 호출했음\n",
            "1를 호출했음\n"
          ]
        }
      ]
    },
    {
      "cell_type": "code",
      "source": [
        "# 5! = 5 * 4 * 3 * 2 * 1\n",
        "# 재귀호출 : 내가 나를 부르는 호출방법\n",
        "#            이전 단계가 다 끝나야 내가 끝날 수 있음\n",
        "def fact(n):\n",
        "  if n == 1:\n",
        "    return 1\n",
        "  else:\n",
        "    return n * fact(n)\n",
        "\n",
        "print(fact(5))"
      ],
      "metadata": {
        "id": "__PQsC2ADYP0"
      },
      "execution_count": null,
      "outputs": []
    },
    {
      "cell_type": "code",
      "source": [
        "# 파이썬에서는 함수를 def라고 선언, 중괄호가 없음(들여쓰기와 콜론:으로 구별)\n",
        "\n",
        "def go(step):\n",
        "    if step > 10 :\n",
        "        return\n",
        "    print(step)\n",
        "    go(step+1)\n",
        "\n",
        "\n",
        "go(1)"
      ],
      "metadata": {
        "id": "WcxfpXXIYhS0",
        "colab": {
          "base_uri": "https://localhost:8080/"
        },
        "outputId": "e3038f5d-a5fe-4f59-a76e-b6544fbdcfd0"
      },
      "execution_count": null,
      "outputs": [
        {
          "output_type": "stream",
          "name": "stdout",
          "text": [
            "1\n",
            "2\n",
            "3\n",
            "4\n",
            "5\n",
            "6\n",
            "7\n",
            "8\n",
            "9\n",
            "10\n"
          ]
        }
      ]
    },
    {
      "cell_type": "code",
      "source": [
        "arr = [\n",
        "    [1,1,0,0],\n",
        "    [0,1,1,0],\n",
        "    [0,1,0,0],\n",
        "    [0,1,1,1]\n",
        "    ]\n",
        "\n",
        "def start(x, y):\n",
        "  global arr\n",
        "  print(arr[0][0])\n",
        "\n",
        "start(0,0)"
      ],
      "metadata": {
        "id": "IyMc3u6kf8db",
        "colab": {
          "base_uri": "https://localhost:8080/"
        },
        "outputId": "ea6bac5f-ce71-473c-d0cf-6d34128ebe24"
      },
      "execution_count": null,
      "outputs": [
        {
          "output_type": "stream",
          "name": "stdout",
          "text": [
            "1\n"
          ]
        }
      ]
    },
    {
      "cell_type": "code",
      "source": [
        "# import => 만들어져있는 라이브러리를 갖고 오는 것\n",
        "# as 키워드를 이용하여 별칭으로 부를 수 있음\n",
        "import random as rd\n",
        "\n",
        "n = rd.randint(1,10)\n",
        "print(n)\n",
        "\n",
        "names = ['lee', 'park', 'choi', 'hong']\n",
        "rd.shuffle(names) # names가 변경이 됨\n",
        "print(names)"
      ],
      "metadata": {
        "id": "y9kN2uceZ2a_",
        "colab": {
          "base_uri": "https://localhost:8080/"
        },
        "outputId": "46b5110b-d2a4-4619-9f6d-297c46326375"
      },
      "execution_count": 10,
      "outputs": [
        {
          "output_type": "stream",
          "name": "stdout",
          "text": [
            "6\n",
            "['choi', 'lee', 'park', 'hong']\n"
          ]
        }
      ]
    },
    {
      "cell_type": "code",
      "source": [
        "# pypi.org\n",
        "!pip install gTTS\n",
        "!pip install playsound\n",
        "\n",
        "# gtts 라이브러리 중 gTTS만 갖고오기\n",
        "from gtts import gTTS\n",
        "import playsound\n",
        "msg = 'hello'\n",
        "tts = gTTS(msg) # msg를 읽기'\n",
        "tts.save('hello.mp3') # hello.mp3 저장하기\n",
        "playsound.playsound('hello.mp3') # hello.mp3 재생하기"
      ],
      "metadata": {
        "id": "tHvwT798fpSq"
      },
      "execution_count": null,
      "outputs": []
    }
  ]
}