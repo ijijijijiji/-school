{
  "nbformat": 4,
  "nbformat_minor": 0,
  "metadata": {
    "colab": {
      "provenance": [],
      "authorship_tag": "ABX9TyOvguCJ1NWbN6/BQJgkXyUv",
      "include_colab_link": true
    },
    "kernelspec": {
      "name": "python3",
      "display_name": "Python 3"
    },
    "language_info": {
      "name": "python"
    }
  },
  "cells": [
    {
      "cell_type": "markdown",
      "metadata": {
        "id": "view-in-github",
        "colab_type": "text"
      },
      "source": [
        "<a href=\"https://colab.research.google.com/github/ijijijijiji/ijijijijiji/blob/main/1_%ED%8C%8C%EC%9D%B4%EC%8D%AC_%EA%B8%B0%EC%B4%88.ipynb\" target=\"_parent\"><img src=\"https://colab.research.google.com/assets/colab-badge.svg\" alt=\"Open In Colab\"/></a>"
      ]
    },
    {
      "cell_type": "markdown",
      "source": [
        "파이썬은 띄어쓰기 조심!\n"
      ],
      "metadata": {
        "id": "OISXNqbotEe7"
      }
    },
    {
      "cell_type": "code",
      "execution_count": null,
      "metadata": {
        "colab": {
          "base_uri": "https://localhost:8080/"
        },
        "id": "w1fheLWar6Jp",
        "outputId": "3b673b34-1dc7-442e-eae0-f944c8f2b304"
      },
      "outputs": [
        {
          "output_type": "stream",
          "name": "stdout",
          "text": [
            "나의 첫 파이썬 코드\n"
          ]
        }
      ],
      "source": [
        "print(\"안녕\")"
      ]
    },
    {
      "cell_type": "markdown",
      "source": [
        "파이썬에서 변수 만들기는 쉬움"
      ],
      "metadata": {
        "id": "i4-lVrIluljI"
      }
    },
    {
      "cell_type": "code",
      "source": [
        "name = '홍길동'\n",
        "age = 17\n",
        "print(\"안녕하세요 난 \" , name)"
      ],
      "metadata": {
        "id": "fPqILjKvtVkx"
      },
      "execution_count": null,
      "outputs": []
    },
    {
      "cell_type": "code",
      "source": [
        "a = 5\n",
        "b = 3\n",
        "print(a%b) #나머지를 구하는 연산자"
      ],
      "metadata": {
        "id": "OynTPunrujKP"
      },
      "execution_count": null,
      "outputs": []
    },
    {
      "cell_type": "code",
      "source": [
        "a = 5\n",
        "b = 3\n",
        "print(a == b)\n",
        "print(a != b)"
      ],
      "metadata": {
        "id": "KufQiFSYAp1V"
      },
      "execution_count": null,
      "outputs": []
    },
    {
      "cell_type": "code",
      "source": [
        "a = 5\n",
        "b = 2\n",
        "t = b\n",
        "b = a\n",
        "a = t\n",
        "print(a, b)"
      ],
      "metadata": {
        "colab": {
          "base_uri": "https://localhost:8080/"
        },
        "id": "spTBh4raBGsr",
        "outputId": "9c559091-b0ac-450d-d969-0137cfc08be8"
      },
      "execution_count": null,
      "outputs": [
        {
          "output_type": "stream",
          "name": "stdout",
          "text": [
            "2 5\n"
          ]
        }
      ]
    },
    {
      "cell_type": "code",
      "source": [
        "str = 'holle'"
      ],
      "metadata": {
        "id": "GQ-WhfTJBkZk"
      },
      "execution_count": null,
      "outputs": []
    },
    {
      "cell_type": "code",
      "source": [
        "print(str)"
      ],
      "metadata": {
        "colab": {
          "base_uri": "https://localhost:8080/"
        },
        "id": "eoyp4RJ8c7iq",
        "outputId": "2f2a67f6-ffc2-4871-ce25-8d03cc9cb7dc"
      },
      "execution_count": null,
      "outputs": [
        {
          "output_type": "stream",
          "name": "stdout",
          "text": [
            "holle\n"
          ]
        }
      ]
    },
    {
      "cell_type": "code",
      "source": [
        "#우리반 학생을 저장 ( 1~ 10번)\n",
        "#방법1\n",
        "s1 = '김개똥'\n",
        "s2 = '홍길동'\n",
        "#만약 학생이 100명이라면 ? => 100의 변수가 필요\n",
        "\n",
        "student =  ['김개똥', '홍길동', 100] #리스트에 다른 형태의 자료형도 보관가능\n",
        "print(student[2])  #리스트 번지는 0번지 부터 시작\n",
        "\n",
        "student.append('이서연')\n",
        "print(student[3])\n",
        "\n",
        "#리스트에서 쓸수 있는 기능들은 어떤게 있을까??\n",
        "\n",
        "student.pop(1) #1번째 항목이 삭제\n",
        "print(student)"
      ],
      "metadata": {
        "colab": {
          "base_uri": "https://localhost:8080/"
        },
        "id": "80AX2ZP4dHwg",
        "outputId": "b0f00862-f2c8-41b9-99d5-856d3675fbcc"
      },
      "execution_count": null,
      "outputs": [
        {
          "output_type": "stream",
          "name": "stdout",
          "text": [
            "100\n",
            "이서연\n",
            "['김개똥', 100, '이서연']\n"
          ]
        }
      ]
    },
    {
      "cell_type": "code",
      "source": [
        "print(type(cls)) #cls의 자료형\n",
        "num = 3\n",
        "print(type(num))"
      ],
      "metadata": {
        "colab": {
          "base_uri": "https://localhost:8080/",
          "height": 211
        },
        "id": "6S4SnlcIpRFJ",
        "outputId": "5cceb32a-a231-48cb-be04-45c5f259509d"
      },
      "execution_count": null,
      "outputs": [
        {
          "output_type": "error",
          "ename": "NameError",
          "evalue": "ignored",
          "traceback": [
            "\u001b[0;31m---------------------------------------------------------------------------\u001b[0m",
            "\u001b[0;31mNameError\u001b[0m                                 Traceback (most recent call last)",
            "\u001b[0;32m<ipython-input-3-472ab2e8aa40>\u001b[0m in \u001b[0;36m<module>\u001b[0;34m\u001b[0m\n\u001b[0;32m----> 1\u001b[0;31m \u001b[0mprint\u001b[0m\u001b[0;34m(\u001b[0m\u001b[0mtype\u001b[0m\u001b[0;34m(\u001b[0m\u001b[0mcls\u001b[0m\u001b[0;34m)\u001b[0m\u001b[0;34m)\u001b[0m \u001b[0;31m#cls의 자료형\u001b[0m\u001b[0;34m\u001b[0m\u001b[0;34m\u001b[0m\u001b[0m\n\u001b[0m\u001b[1;32m      2\u001b[0m \u001b[0mnum\u001b[0m \u001b[0;34m=\u001b[0m \u001b[0;36m3\u001b[0m\u001b[0;34m\u001b[0m\u001b[0;34m\u001b[0m\u001b[0m\n\u001b[1;32m      3\u001b[0m \u001b[0mprint\u001b[0m\u001b[0;34m(\u001b[0m\u001b[0mtype\u001b[0m\u001b[0;34m(\u001b[0m\u001b[0mnum\u001b[0m\u001b[0;34m)\u001b[0m\u001b[0;34m)\u001b[0m\u001b[0;34m\u001b[0m\u001b[0;34m\u001b[0m\u001b[0m\n",
            "\u001b[0;31mNameError\u001b[0m: name 'cls' is not defined"
          ]
        }
      ]
    },
    {
      "cell_type": "code",
      "source": [
        "#사용자 입력\n",
        "print('이름을 입력하세요')\n",
        "name = input() #입력하기 기능\n",
        "#또는 name = input ('이름을 입력하세요')\n",
        "#print('holle', name)\n",
        "#print('holle'+ name)\n",
        "print(f'holle {name}')  # f' 로 시작하는 포맷팅을 이용해서 변수를 안에 표현할 수 있음\n",
        "\n"
      ],
      "metadata": {
        "id": "3yg3MKvfrMcC"
      },
      "execution_count": null,
      "outputs": []
    },
    {
      "cell_type": "code",
      "source": [
        "#리스트에 관해서.. 문자열\n",
        "#string = 문자열\n",
        "str = 'hello world'\n",
        "print(str[4])  #['h' , 'e', 'l'....] 저장되고 있음\n",
        "print(len(str)) #len() 기능은 문자의 길이를 출력\n",
        "\n",
        "list = [1,2,3,4,5] #배열의 길이를 알 수 있을까?\n",
        "print(len(list))"
      ],
      "metadata": {
        "id": "KCbcO14g8DRl"
      },
      "execution_count": null,
      "outputs": []
    },
    {
      "cell_type": "code",
      "source": [
        "#반복문-반복된 작업을 쉽게\n",
        "#상황-리스트 = [0,0,0,0,0,0,.....] => 100칸 생성\n",
        "#list = [0,0,...,0] 또는\n",
        "#list = [] list.append  추가하기 100번\n",
        "\n",
        "#반복 명령어 for,while\n",
        "#for = 제한된 횟수만큼 반복\n",
        "#k = 반복하면서 사용할 변수\n",
        "#renge(범위) 0~범위-1 까지\n",
        "for k in range(2,5): #2부터 5-1까지\n",
        "# :  표시는 중괄호 시작이랑 같은 뜻\n",
        "  #안에 띄어쓰기를 했음\n",
        "  print(k)  #k는 0~9까지 변신\n",
        "  print('반복중')"
      ],
      "metadata": {
        "id": "XDtpkfEO-2zH"
      },
      "execution_count": null,
      "outputs": []
    },
    {
      "cell_type": "code",
      "source": [
        "# 100개의 리스트 배열을 만들고 [0,2,4,6,...] 순서로 값을 초기화\n",
        "#배열의 항목을 추가하는 명령어 append\n",
        "\n",
        "for k in renge(100):\n",
        "  list.append(k*2)\n",
        "print(list)"
      ],
      "metadata": {
        "id": "M7wXrXMvBaWX"
      },
      "execution_count": null,
      "outputs": []
    },
    {
      "cell_type": "code",
      "source": [
        "#for는 반복문 => 똑같은 작업을 할 수 있도록 횟수를 지정하는 반복문\n",
        "#입력하는 단의 구구단 출력\n",
        "#예) 3입력 => 3*1=3 .... 3*9 = 27\n",
        "n = input('숫자를 입력하세요')\n",
        "print(n*3) #ioput으로 받은 값은 문자로 출력됨\n",
        "k = int(n) #int 타입 = 정수값으로 변경\n",
        "print(k*3)\n",
        "## ==>>>>   n = int(input('숫자입력'))"
      ],
      "metadata": {
        "colab": {
          "base_uri": "https://localhost:8080/"
        },
        "id": "mRMxOS1OgO_0",
        "outputId": "ea84e6a3-1fd8-4d8a-c8e3-0bec5f6e2aea"
      },
      "execution_count": null,
      "outputs": [
        {
          "output_type": "stream",
          "name": "stdout",
          "text": [
            "숫자를 입력하세요3\n",
            "333\n"
          ]
        }
      ]
    },
    {
      "cell_type": "code",
      "source": [
        "#입력하는 단의 구구단 출력\n",
        "n = int(input('숫자입력')) #내가 원하는 숫자 입력\n",
        "\n",
        "#print(f'{n} = 1 ={n*1}')\n",
        "#print(f'{n} = 1 ={n*2}')\n",
        "\n",
        "\n",
        "for i in range(1,10):    #1~10 전까지 = 1~9   #클론 : 붙이기\n",
        "  print(f'{n} * {i} = {n*i}')"
      ],
      "metadata": {
        "id": "U_JcbLP2h9P0"
      },
      "execution_count": null,
      "outputs": []
    },
    {
      "cell_type": "code",
      "source": [
        "#  1~ 입력수 n까지 369게임 (n = 2~9)\n",
        "#3,6,9에는 대문자 X를 출력\n",
        "#그리고 숫자마다 공백\n",
        "\n",
        "#0. 사용자 입력을 숫자로 받기\n",
        "#1. 1부터 입력수까지 출력 => for문 필요\n",
        "#2. 3,6,9 인지 판단 하여 X로 변환\n",
        "k = int(input('숫자 입력'))\n",
        "for i in range(1,k+1):\n",
        "  # 1부터 k까지 나옴\n",
        "  #if조건 : => 참인지 검사\n",
        "  #참이라면 수행할 내용\n",
        "  #\n",
        " if i == 3 :   #등호를 하나만 쓰면, <- 복사,   ==  비교하는것\n",
        "  print('X')\n",
        "else:  #그 밖에 if와 같이 사용됨. if는 혼자 쓸수 있지만 else 혼자 사용 불가\n",
        "  if i == 6 :\n",
        "    print('X')\n",
        "   \n",
        "    "
      ],
      "metadata": {
        "id": "CBQ0PKXLtCdI"
      },
      "execution_count": null,
      "outputs": []
    },
    {
      "cell_type": "code",
      "source": [
        "#나머지 연산자 알기\n",
        "n = int(input('숫자 입력'))\n",
        "for i in range(1,n+1):\n",
        "  #만약 3으로 나누어 떨어지는가 == 나머지가 0인가\n",
        "  # % = 나머지 연산자 => 10 % 3 = 1\n",
        "  if i % 3 == 0:\n",
        "    print('X')\n",
        "  else:\n",
        "    print(i)  "
      ],
      "metadata": {
        "id": "yPypDGUFx8gm"
      },
      "execution_count": null,
      "outputs": []
    },
    {
      "cell_type": "code",
      "source": [
        "#OR연산자, AND연산자 => OR연산자\n",
        "n = int(input('숫자 입력'))\n",
        "for i in range(1, n+1):\n",
        " # or 조건중에 하나라도 참이면 참\n",
        "  if i == 3 or i == 6 or i == 9 :\n",
        "    print('X' , end = ' ')\n",
        "  else:\n",
        "    print(i, end = ' ')  "
      ],
      "metadata": {
        "id": "JJAH9RLXy659"
      },
      "execution_count": null,
      "outputs": []
    },
    {
      "cell_type": "code",
      "source": [
        "#if문 복습 for문과 연계\n",
        "#if = 조건검사 = 만약 조건이 참이라면 수행할 내용 작성\n",
        "a = 5\n",
        "if a > 5 :\n",
        "  print('큰수')\n",
        "  print('입니다')\n",
        "\n",
        "\n",
        "  if a >5 :\n",
        "    print('큰수')\n",
        "  else:  #else = 그밖에  참이 아닌 경우에는 전부 이쪽으로 오게됨\n",
        "    print('작은수')\n"
      ],
      "metadata": {
        "colab": {
          "base_uri": "https://localhost:8080/"
        },
        "id": "pOQd4qLBCEN0",
        "outputId": "c485f34b-aa93-4a25-97e7-f4562b2e4c02"
      },
      "execution_count": null,
      "outputs": [
        {
          "output_type": "stream",
          "name": "stdout",
          "text": [
            "큰수\n",
            "입니다\n"
          ]
        }
      ]
    },
    {
      "cell_type": "code",
      "source": [
        "#내가 생각 숫자 맞추기\n",
        "#10번의 기회동안 숫자를 맞춤\n",
        "#10번 기회 => 10번동안 입력을 받아야겠음\n",
        "#10번동안 => 10번 반복 => for문 필요\n",
        "#입력받음 => input() 필요\n",
        "#내가 입력한 숫자가 맞는지 검사(만약 일치하나??) => if문 필요\n",
        "#10번 반복할 동안 검사를 매번 수행 => for문 안에서 입력도 받고 검사도 하고\n",
        "\n",
        "\n",
        "for i in range(10):\n",
        "  ans = 15\n",
        "  num = int( input('정답은?') ) \n",
        "\n",
        "#ans랑 num이랑 같은가\n",
        "if ans == num :\n",
        "  print('정답')\n",
        "else:\n",
        "  print('오답')  "
      ],
      "metadata": {
        "id": "OhVCmY0EFmOG"
      },
      "execution_count": null,
      "outputs": []
    },
    {
      "cell_type": "code",
      "source": [
        "for i in range(10):\n",
        "  ans = 15\n",
        "  num = int( input('정답은?') ) \n",
        "\n",
        "if ans == num :\n",
        "  print('정답')\n",
        "else:\n",
        "  #틀린 숫자만 오는 경우\n",
        "  #또 검사 \n",
        "  if ans > num:\n",
        "    print('up')\n",
        "   else:\n",
        "     print('down')"
      ],
      "metadata": {
        "id": "bwLeZYNxI7hF"
      },
      "execution_count": null,
      "outputs": []
    },
    {
      "cell_type": "code",
      "source": [
        "for i in range(10):\n",
        "  ans = 15\n",
        "  num = int( input('정답은?') )  #입력 문자를 숫자로 변환\n",
        "  #ans랑 num가 같은가\n",
        "\n",
        "if ans == num :\n",
        "  print('정답')\n",
        "#빠져나가기 => 검색. 파이썬에서 반복문 빠져나가기\n",
        "\n",
        "  break\n",
        "#else 아래의 if를 또 쓰자니 번거로움...\n",
        "\n",
        "elif ans > num :\n",
        "  print('up')\n",
        "else:\n",
        "    print('down')\n",
        "\n"
      ],
      "metadata": {
        "id": "y8rP9dwxJer-"
      },
      "execution_count": null,
      "outputs": []
    },
    {
      "cell_type": "code",
      "source": [
        "#숫자를 입력받기 기능 => n이라고 하자\n",
        "#1부터 n까지 반복 => for ~~~~ :\n",
        "#반복하면서 나오는 숫자가 짝수인지 검사 %2==0 ???\n",
        "#합 구하기 => 합을 보관하는 변수 sum을 만들자\n",
        "#sum변수를 누적해서 저장하자\n",
        "\n",
        "n = int(input())\n",
        "sum = 0 #합계\n",
        "\n",
        "for  k in range(1, n+1):\n",
        "  #k가 1~n까지 값이 들어옴\n",
        "  #k가 짝수인지 판단\n",
        "  if k%2 == 0:\n",
        "    #sum에다 k를 누적 => 누적한다는 것은 sum에 k를 추가 => sum에 보관\n",
        "    sum = sum+k\n",
        "\n",
        "#반복이 끝났음\n",
        "print(sum)\n",
        "\n",
        "\n",
        "\n",
        "\n"
      ],
      "metadata": {
        "colab": {
          "base_uri": "https://localhost:8080/"
        },
        "id": "bRcZAk_dijp0",
        "outputId": "1cdd5aa5-cbc5-4460-c2a8-798b9a427930"
      },
      "execution_count": null,
      "outputs": [
        {
          "output_type": "stream",
          "name": "stdout",
          "text": [
            "30\n",
            "240\n"
          ]
        }
      ]
    },
    {
      "cell_type": "code",
      "source": [
        "n = int(input())\n",
        "sum = 0\n",
        "\n",
        "for k in range(2, n+1, 2):\n",
        "  sum = sum + k\n",
        "print(sum)"
      ],
      "metadata": {
        "colab": {
          "base_uri": "https://localhost:8080/"
        },
        "id": "uqS_hG1qp-m7",
        "outputId": "f82304a1-f9d6-4d4d-c8b6-b37919e8e8a6"
      },
      "execution_count": null,
      "outputs": [
        {
          "output_type": "stream",
          "name": "stdout",
          "text": [
            "30\n",
            "240\n"
          ]
        }
      ]
    },
    {
      "cell_type": "code",
      "source": [
        "n = int(input())\n",
        "sum = 0\n",
        "if n%2 != 0:\n",
        "  n= n-1 #n을 마지막 짝수로 만듬\n",
        "mid = int(n/2) + 1\n",
        "sum = ((n+2) * int(n/4)) + mid\n",
        "print(sum)"
      ],
      "metadata": {
        "colab": {
          "base_uri": "https://localhost:8080/"
        },
        "id": "lnLURIyPqVpz",
        "outputId": "b2ccb3cd-27b5-4a64-8dc5-7ca8de4c5f51"
      },
      "execution_count": null,
      "outputs": [
        {
          "output_type": "stream",
          "name": "stdout",
          "text": [
            "30\n",
            "240\n"
          ]
        }
      ]
    },
    {
      "cell_type": "code",
      "source": [
        "#가위1   바위1   보3 \n",
        "#\n",
        "me = int(input('뭐 낼래? 가위1 바위2 보3   '))\n",
        "com = int(input('컴퓨터는 뭐 낼래? 가위1 바위2 보3   ')) #가위를 냈다고 하자..\n",
        "\n",
        "\n",
        "#나와 컴의 비교를 해서 승, 패, 무승부 출력!\n",
        "\n",
        "if me == com :\n",
        "  print('무승부')\n",
        "elif me == (1 and com == 3) or (me == 2 and com == 1) or (me == 3 and com == 2):\n",
        "  print('이겼다')\n",
        "else:\n",
        "  print('졌다')"
      ],
      "metadata": {
        "colab": {
          "base_uri": "https://localhost:8080/"
        },
        "id": "AhypjENqvmaL",
        "outputId": "431f2e6f-b7d4-403b-fc7b-b36f43e1d7d0"
      },
      "execution_count": null,
      "outputs": [
        {
          "output_type": "stream",
          "name": "stdout",
          "text": [
            "뭐 낼래? 가위1 바위2 보3   1\n",
            "컴퓨터는 뭐 낼래? 가위1 바위2 보3   2\n",
            "졌다\n"
          ]
        }
      ]
    },
    {
      "cell_type": "code",
      "source": [
        "#1이 입력되면 0, 0이 입력되면 1로 출력하는 프로그램 만들자\n",
        "n = int(input())\n",
        "if n == 1 :\n",
        "  print(0)\n",
        "else :\n",
        "  print(1)\n",
        "\n",
        "\n",
        "n = int(input())\n",
        "print(1-n)\n"
      ],
      "metadata": {
        "id": "Y_RjOhYYDAQX"
      },
      "execution_count": null,
      "outputs": []
    },
    {
      "cell_type": "code",
      "source": [
        "#for문과 배열을 섞어보자\n",
        "#배열 = 리스트 => 변수의 집합 => 여러개의 변수를 묶어서 보관\n",
        "#그럼 어떻게 안에 있는 자료를 접근할 수 있을까?? => 주소\n",
        "\n",
        "lt = [] #빈 리스트 만들기\n",
        "#리스트 관련된 명령어 알기\n",
        "#  lt. => 점을 찍으면 사용할 수 있는 명령어가 나옴\n",
        "lt.append(1) #뒤에 추가\n",
        "lt.append(10)\n",
        "lt.insert(1, 5) #(번자, 추가할 값)  , 리스트는 0번지 부터 출발\n",
        "lt.insert(0, 20) #[20, 1, 5, 10]\n",
        "\n",
        "#1번지에 있는 1을 삭제\n",
        "lt.remove(1) #삭제할때는 주수번지만 이용해서 삭제\n",
        "\n",
        "\n",
        "\n",
        "print(lt)"
      ],
      "metadata": {
        "id": "f8LOBKtlFhz_"
      },
      "execution_count": null,
      "outputs": []
    },
    {
      "cell_type": "code",
      "source": [
        "#[0, 10, 20, 30, 40, 50 ....1000]인 배열 만들자\n",
        "#0번지 0, 1번지에 10, 2번지에 20, 3번지에 30......n번지 n*10\n",
        "a = []\n",
        "for n in range(101):\n",
        "  a.append(n*10)\n",
        "print(a)\n",
        "\n",
        "pos = a.index(40) \n",
        "#값을 찾아보고 있으면 해당 번지를 출력\n",
        "print(pos)\n",
        "\n",
        "str + 'hello word' #문자열도 리스트로 다룰 수 있음\n",
        "print(str[6])\n",
        "print(str.index('w'))\n",
        "#문자열에서는 find 명령어도 사용할 수 있음"
      ],
      "metadata": {
        "colab": {
          "base_uri": "https://localhost:8080/"
        },
        "id": "ngUbVijQIVgd",
        "outputId": "4eb0d23f-3a95-45a2-e272-44d3f566ddf0"
      },
      "execution_count": null,
      "outputs": [
        {
          "output_type": "stream",
          "name": "stdout",
          "text": [
            "[0, 10, 20, 30, 40, 50, 60, 70, 80, 90, 100, 110, 120, 130, 140, 150, 160, 170, 180, 190, 200, 210, 220, 230, 240, 250, 260, 270, 280, 290, 300, 310, 320, 330, 340, 350, 360, 370, 380, 390, 400, 410, 420, 430, 440, 450, 460, 470, 480, 490, 500, 510, 520, 530, 540, 550, 560, 570, 580, 590, 600, 610, 620, 630, 640, 650, 660, 670, 680, 690, 700, 710, 720, 730, 740, 750, 760, 770, 780, 790, 800, 810, 820, 830, 840, 850, 860, 870, 880, 890, 900, 910, 920, 930, 940, 950, 960, 970, 980, 990, 1000]\n"
          ]
        }
      ]
    },
    {
      "cell_type": "code",
      "source": [
        "#리스트에서 index를 쓰지않고 해당 위치 반환\n",
        "\n",
        "a = [1,2,3,4,5,6,7,]\n",
        "size = len(a)  #a 배열의 길이  , a.lenght 아님(자바에서 이렇게...)\n",
        "find = int(input())\n",
        "\n",
        "#for문을 이용 => a의 크가 만큼 반복검사\n",
        "for k in range(size):\n",
        "  #a[k]야 find와 같음?\n",
        "  if a[k] == find:\n",
        "    print(k)\n",
        "    break\n",
        "\n",
        "\n",
        "#a에서 쓸수 있는 기능\n",
        "#pos = a.index(4) #4의 위치는?\n",
        "#print(pos)\n",
        "\n",
        "\n",
        "###결과###\n",
        "#4입력 => 3(번지)출력"
      ],
      "metadata": {
        "id": "-upyy_xNKVHM",
        "colab": {
          "base_uri": "https://localhost:8080/"
        },
        "outputId": "3208f6c6-05d0-40f1-ab2d-03e139e99ccc"
      },
      "execution_count": null,
      "outputs": [
        {
          "output_type": "stream",
          "name": "stdout",
          "text": [
            "5\n",
            "4\n"
          ]
        }
      ]
    },
    {
      "cell_type": "code",
      "source": [
        "#마지막부터 답 찾기\n",
        "#range의 활용\n",
        "\n",
        "a = [1, 2, 3, 4, 5, 6, 7, 8, 9]\n",
        "size = len(a)\n",
        "find = int(input())\n",
        "#10부터 1까지 1씩 감소 => range(11, 0, -1)\n",
        "for k in range(size-1 , -1, -1):\n",
        "  if a[k] == find:\n",
        "   print(k)\n",
        "   break\n",
        "\n",
        "\n",
        "for k in range(size):\n",
        "  #0번지 => 3 만들기\n",
        "  pos = size - 1 - k #k=0일 때 10-1-k=>9--0 = 9번지 찾기\n",
        "  if a[pos] == find:\n",
        "   print(pos)\n",
        "   break"
      ],
      "metadata": {
        "id": "aEqEuM25k6U2"
      },
      "execution_count": null,
      "outputs": []
    },
    {
      "cell_type": "code",
      "source": [
        "#n = [1,3,4,5,51,6,37,86,7,8,9,]\n",
        "n = ['jan', 'fed', 'mar', 'apr','may','june', 'july']\n",
        "#range(10) = [0,1,2,3,4,5,6,7,8,9]\n",
        "for k in n:  #in 다음에는 range만 가능한게 아님. 범위를 가지고 있는 것을 쓰면 됨\n",
        "  print(k)"
      ],
      "metadata": {
        "colab": {
          "base_uri": "https://localhost:8080/"
        },
        "id": "QYA2IqKanZkk",
        "outputId": "a4b4778c-53bf-4a54-fa7e-87ade887c9f3"
      },
      "execution_count": null,
      "outputs": [
        {
          "output_type": "stream",
          "name": "stdout",
          "text": [
            "1\n",
            "3\n",
            "4\n",
            "5\n",
            "51\n",
            "6\n",
            "37\n",
            "86\n",
            "7\n",
            "8\n",
            "9\n"
          ]
        }
      ]
    },
    {
      "cell_type": "code",
      "source": [
        "#반복문\n",
        "\n",
        "\n",
        "#~동안에\n",
        "#조건이 참인 동안 반복\n",
        "k = 0\n",
        "while k < 5:\n",
        "  print(k)\n",
        "  k = k+1\n",
        "\n",
        "print('byebye')\n",
        "print(k)"
      ],
      "metadata": {
        "colab": {
          "base_uri": "https://localhost:8080/"
        },
        "id": "GD358oUh2Y4A",
        "outputId": "dc439776-67b7-41d9-de25-705ee587f49b"
      },
      "execution_count": null,
      "outputs": [
        {
          "output_type": "stream",
          "name": "stdout",
          "text": [
            "0\n",
            "1\n",
            "2\n",
            "3\n",
            "4\n",
            "byebye\n",
            "5\n"
          ]
        }
      ]
    },
    {
      "cell_type": "code",
      "source": [
        "#패스워드를 검사하자.  비번이 맞을 때 까지 반복\n",
        "\n",
        "#비번이 틀렸을 때 반복\n",
        "\n",
        "pw = '1234' #문자 1234\n",
        "\n",
        "my = input('패스워드를 입력하세요')\n",
        "\n",
        "#비번이 틀렸을 때 반복  pw my 같지 않을때\n",
        "while pw != my:  #!는 부정의 의미\n",
        "  my = input('패스워드를 입력하세요')\n",
        "print('welcome')"
      ],
      "metadata": {
        "id": "c9b2p9vO3ybf"
      },
      "execution_count": null,
      "outputs": []
    },
    {
      "cell_type": "code",
      "source": [
        "pw = '1234'\n",
        "\n",
        "#무조건 반복하다가 조건이 맞으면 탈출(break)\n",
        "#파이썬에는 do-while문이 없음\n",
        "#True는 참을 뜻함. False은 거짓 => 대소문자 주의\n",
        "while True :\n",
        "  my = input('비번입력')\n",
        "  if my == pw:\n",
        "    break"
      ],
      "metadata": {
        "id": "aUI1tiC-432-"
      },
      "execution_count": null,
      "outputs": []
    }
  ]
}